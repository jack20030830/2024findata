{
  "nbformat": 4,
  "nbformat_minor": 0,
  "metadata": {
    "colab": {
      "provenance": [],
      "authorship_tag": "ABX9TyPXzEfAEWWGdkw9MZTDksy6",
      "include_colab_link": true
    },
    "kernelspec": {
      "name": "python3",
      "display_name": "Python 3"
    },
    "language_info": {
      "name": "python"
    }
  },
  "cells": [
    {
      "cell_type": "markdown",
      "metadata": {
        "id": "view-in-github",
        "colab_type": "text"
      },
      "source": [
        "<a href=\"https://colab.research.google.com/github/jack20030830/2024findata/blob/main/%E8%B3%87%E6%95%B8%E5%9B%9B_410170134_%E8%94%A1%E5%B0%9A%E9%A0%B5_HW9.ipynb\" target=\"_parent\"><img src=\"https://colab.research.google.com/assets/colab-badge.svg\" alt=\"Open In Colab\"/></a>"
      ]
    },
    {
      "cell_type": "code",
      "execution_count": null,
      "metadata": {
        "id": "KrVfmi7RuoHB"
      },
      "outputs": [],
      "source": [
        "!pip install fredapi"
      ]
    },
    {
      "cell_type": "code",
      "source": [
        "from fredapi import Fred"
      ],
      "metadata": {
        "id": "w61AB5ANvAbx"
      },
      "execution_count": null,
      "outputs": []
    },
    {
      "cell_type": "code",
      "source": [
        "fred = Fred(api_key='d8ba5d53c51b19801071f56a402b95dc')"
      ],
      "metadata": {
        "id": "AaE_adH0vAgB"
      },
      "execution_count": null,
      "outputs": []
    },
    {
      "cell_type": "code",
      "source": [
        "data1 = fred.get_series('SP500')"
      ],
      "metadata": {
        "id": "X67a2hJ2vAio"
      },
      "execution_count": null,
      "outputs": []
    },
    {
      "cell_type": "code",
      "source": [
        "data1 = fred.get_series('SP500', '6/1/2021')"
      ],
      "metadata": {
        "id": "rfg7ycEdvAnx"
      },
      "execution_count": null,
      "outputs": []
    },
    {
      "cell_type": "code",
      "source": [
        "data1.plot()"
      ],
      "metadata": {
        "id": "jhgay2TNvArA"
      },
      "execution_count": null,
      "outputs": []
    },
    {
      "cell_type": "code",
      "source": [
        "data2 = fred.get_series('RRPONTSYD')"
      ],
      "metadata": {
        "id": "PdCi_mebvAtI"
      },
      "execution_count": null,
      "outputs": []
    },
    {
      "cell_type": "code",
      "source": [
        "data2 = fred.get_series('RRPONTSYD', '6/1/2021')"
      ],
      "metadata": {
        "id": "Og5ynqGhvA04"
      },
      "execution_count": null,
      "outputs": []
    },
    {
      "cell_type": "code",
      "source": [
        "data1.plot()\n",
        "data2.plot()"
      ],
      "metadata": {
        "id": "PinUYEY4vA4R"
      },
      "execution_count": null,
      "outputs": []
    },
    {
      "cell_type": "code",
      "source": [
        "df1 = data1.to_frame(name=\"SP500\")\n",
        "df2 = data2.to_frame(name='RRPONTSYD')"
      ],
      "metadata": {
        "id": "0O9ntpfdvA7v"
      },
      "execution_count": null,
      "outputs": []
    },
    {
      "cell_type": "code",
      "source": [
        "import matplotlib\n",
        "import matplotlib.pyplot as plt"
      ],
      "metadata": {
        "id": "kJCI8hpcvBBg"
      },
      "execution_count": null,
      "outputs": []
    },
    {
      "cell_type": "code",
      "source": [
        "plt.plot(df_merged.index, df_merged['SP500'])\n",
        "plt.plot(df_merged.index, df_merged['RRPONTSYD'])"
      ],
      "metadata": {
        "id": "_UbnL0otvYHR"
      },
      "execution_count": null,
      "outputs": []
    },
    {
      "cell_type": "code",
      "source": [
        "fig,ax = plt.subplots()\n",
        "ax.plot(df_merged.index, df_merged['SP500'],color=\"blue\",marker=\"o\")\n",
        "ax2=ax.twinx()\n",
        "ax2.plot(df_merged.index, df_merged['RRPONTSYD'],color=\"red\")\n",
        "fig.savefig('折線圖.jpg',format='jpeg')"
      ],
      "metadata": {
        "id": "jK8ROF53vYKI"
      },
      "execution_count": null,
      "outputs": []
    },
    {
      "cell_type": "code",
      "source": [
        "df_merged.corr()"
      ],
      "metadata": {
        "id": "tcpiiB4PvYOB"
      },
      "execution_count": null,
      "outputs": []
    },
    {
      "cell_type": "code",
      "source": [
        "import seaborn as sns\n",
        "sns.heatmap(df_merged.corr())"
      ],
      "metadata": {
        "id": "gVQMm_eKvYRZ"
      },
      "execution_count": null,
      "outputs": []
    },
    {
      "cell_type": "code",
      "source": [
        "svm = sns.heatmap(df_merged.corr(), cmap=\"Blues\", annot=True)\n",
        "figure = svm.get_figure()\n",
        "figure.savefig('相關係數.png', dpi=400)"
      ],
      "metadata": {
        "id": "7DaNkpRCvYVI"
      },
      "execution_count": null,
      "outputs": []
    }
  ]
}