{
  "nbformat": 4,
  "nbformat_minor": 0,
  "metadata": {
    "colab": {
      "provenance": [],
      "authorship_tag": "ABX9TyNvmYw871gn5jslZv+bSMbp",
      "include_colab_link": true
    },
    "kernelspec": {
      "name": "python3",
      "display_name": "Python 3"
    },
    "language_info": {
      "name": "python"
    }
  },
  "cells": [
    {
      "cell_type": "markdown",
      "metadata": {
        "id": "view-in-github",
        "colab_type": "text"
      },
      "source": [
        "<a href=\"https://colab.research.google.com/github/jack20030830/2024findata/blob/main/%E8%B3%87%E6%95%B8%E5%9B%9B_410170134_%E8%94%A1%E5%B0%9A%E9%A0%B5_HW8.ipynb\" target=\"_parent\"><img src=\"https://colab.research.google.com/assets/colab-badge.svg\" alt=\"Open In Colab\"/></a>"
      ]
    },
    {
      "cell_type": "code",
      "execution_count": null,
      "metadata": {
        "id": "_OaLD5-Sqv4_"
      },
      "outputs": [],
      "source": [
        "import pandas as pd"
      ]
    },
    {
      "cell_type": "code",
      "source": [
        "url = \"https://github.com/jack20030830/fin_data3/blob/main/410170134%20%E8%94%A1%E5%B0%9A%E9%A0%B5%20%E4%BD%9C%E6%A5%AD8.csv\""
      ],
      "metadata": {
        "id": "X3f0sevNrBUK"
      },
      "execution_count": null,
      "outputs": []
    },
    {
      "cell_type": "code",
      "source": [
        "df1 = pd.read_csv(url, index_col=0, encoding='unicode_escape')"
      ],
      "metadata": {
        "id": "77IEEJ0stpDh"
      },
      "execution_count": null,
      "outputs": []
    },
    {
      "cell_type": "code",
      "source": [
        "df1"
      ],
      "metadata": {
        "id": "gCFEi2OptpMf"
      },
      "execution_count": null,
      "outputs": []
    },
    {
      "cell_type": "code",
      "source": [
        "url = \"https://github.com/jack20030830/fin_data3/blob/main/410170134%20%E8%94%A1%E5%B0%9A%E9%A0%B5%20%E4%BD%9C%E6%A5%AD8.csv\""
      ],
      "metadata": {
        "id": "WBxY9i9ItpQK"
      },
      "execution_count": null,
      "outputs": []
    },
    {
      "cell_type": "code",
      "source": [
        "df2 = pd.read_csv(url, index_col=0, encoding='unicode_escape')"
      ],
      "metadata": {
        "id": "K5yEOcFptpTT"
      },
      "execution_count": null,
      "outputs": []
    },
    {
      "cell_type": "code",
      "source": [
        "df2"
      ],
      "metadata": {
        "id": "rqX_YGwmtpVw"
      },
      "execution_count": null,
      "outputs": []
    },
    {
      "cell_type": "code",
      "source": [
        "df1.columns"
      ],
      "metadata": {
        "id": "z4u6fRmjtpYo"
      },
      "execution_count": null,
      "outputs": []
    },
    {
      "cell_type": "code",
      "source": [
        "df1.index"
      ],
      "metadata": {
        "id": "6Cou52EitpbY"
      },
      "execution_count": null,
      "outputs": []
    },
    {
      "cell_type": "code",
      "source": [
        "A_1101 = (df1.loc['2809 KTB','Total current assets'] - df1.loc['2809 KTB','Total current liabilities'])/df1.loc['2809 KTB','Total assets']"
      ],
      "metadata": {
        "id": "PZbv8AbRtpia"
      },
      "execution_count": null,
      "outputs": []
    },
    {
      "cell_type": "code",
      "source": [
        "A_1101"
      ],
      "metadata": {
        "id": "iUrPIv9tt7b5"
      },
      "execution_count": null,
      "outputs": []
    },
    {
      "cell_type": "code",
      "source": [
        "X1 ='Total current assets'\n",
        "X2 ='Total current liabilities'\n",
        "X3 ='Total assets'\n",
        "X4 ='Total retained earnings'\n",
        "X5 ='Earnings before interest and tax'\n",
        "X6 ='Total equity'\n",
        "X7 ='Total liabilities'\n",
        "X8 ='Total operating revenue'\n",
        "TCC ='2809 KTB'\n",
        "ACC ='2810 KBB'"
      ],
      "metadata": {
        "id": "bzZIjK3uuAEo"
      },
      "execution_count": null,
      "outputs": []
    },
    {
      "cell_type": "code",
      "source": [
        "A_TCC = (df1.loc[KTB,X1] - df1.loc[KTB,X2])/df1.loc[KTB, X3]"
      ],
      "metadata": {
        "id": "dQM8twQquDCC"
      },
      "execution_count": null,
      "outputs": []
    },
    {
      "cell_type": "code",
      "source": [
        "B_TCC = df1.loc[KTB,X4]/df1.loc[KTB, X3]"
      ],
      "metadata": {
        "id": "s_IQeeM2uE7R"
      },
      "execution_count": null,
      "outputs": []
    },
    {
      "cell_type": "code",
      "source": [
        "C_TCC = df2.loc[KTB,X5]/df1.loc[KTB, X3]"
      ],
      "metadata": {
        "id": "GcRN9aDUuE_v"
      },
      "execution_count": null,
      "outputs": []
    },
    {
      "cell_type": "code",
      "source": [
        "D_TCC = df1.loc[KTB,X6]/df1.loc[KTB, X7] #調整分子項定義，採用股東權益帳面價值"
      ],
      "metadata": {
        "id": "-r88yrzkuFCo"
      },
      "execution_count": null,
      "outputs": []
    },
    {
      "cell_type": "code",
      "source": [
        "E_TCC = df2.loc[KTB,X8]/df1.loc[KTB, X3]"
      ],
      "metadata": {
        "id": "XkG6sbNBuFHi"
      },
      "execution_count": null,
      "outputs": []
    },
    {
      "cell_type": "code",
      "source": [
        "Z_score_TCC = 1.2*A_KTB + 1.4*B_KTB + 3.3*C_KTB + 0.6*D_KTB +1.0*E_KTB"
      ],
      "metadata": {
        "id": "6QR3Z0JguFLb"
      },
      "execution_count": null,
      "outputs": []
    },
    {
      "cell_type": "code",
      "source": [
        "Z_score_KTB, A_KTB, B_KTB, C_KTB, D_KTB, E_KTB"
      ],
      "metadata": {
        "id": "VpOWY8w9uFPx"
      },
      "execution_count": null,
      "outputs": []
    },
    {
      "cell_type": "code",
      "source": [
        "A_KBB = (df1.loc[KBB,X1] - df1.loc[KBB,X2])/df1.loc[KBB, X3]"
      ],
      "metadata": {
        "id": "GHDtyQiYuWfh"
      },
      "execution_count": null,
      "outputs": []
    },
    {
      "cell_type": "code",
      "source": [
        "B_KBB = df1.loc[KBB,X4]/df1.loc[KBB, X3]"
      ],
      "metadata": {
        "id": "oyZlRzd3uWip"
      },
      "execution_count": null,
      "outputs": []
    },
    {
      "cell_type": "code",
      "source": [
        "C_KBB = df2.loc[KBB,X5]/df1.loc[KBB, X3]"
      ],
      "metadata": {
        "id": "TDHiIax3uWmC"
      },
      "execution_count": null,
      "outputs": []
    },
    {
      "cell_type": "code",
      "source": [
        "D_KBB = df1.loc[KBB,X6]/df1.loc[KBB, X7]"
      ],
      "metadata": {
        "id": "Mz4uJscHuWo6"
      },
      "execution_count": null,
      "outputs": []
    },
    {
      "cell_type": "code",
      "source": [
        "E_KBB = df2.loc[KBB,X8]/df1.loc[KBB, X3]"
      ],
      "metadata": {
        "id": "zt5eVAmtuWtX"
      },
      "execution_count": null,
      "outputs": []
    },
    {
      "cell_type": "code",
      "source": [
        "Z_score_KBB = 1.2*A_KBB + 1.4*B_KBB + 3.3*C_KBB + 0.6*D_KBB +1.0*E_KBB"
      ],
      "metadata": {
        "id": "wFoQCRbQuW6B"
      },
      "execution_count": null,
      "outputs": []
    },
    {
      "cell_type": "code",
      "source": [
        "Z_score_KBB, A_KBB, B_KBB, C_KBB, D_KBB, E_KBB"
      ],
      "metadata": {
        "id": "igeca7-ruW9Q"
      },
      "execution_count": null,
      "outputs": []
    }
  ]
}